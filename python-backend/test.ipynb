{
 "cells": [
  {
   "cell_type": "code",
   "execution_count": 1,
   "metadata": {},
   "outputs": [
    {
     "data": {
      "text/html": [
       "<pre style=\"white-space:pre;overflow-x:auto;line-height:normal;font-family:Menlo,'DejaVu Sans Mono',consolas,'Courier New',monospace\"></pre>\n"
      ],
      "text/plain": []
     },
     "metadata": {},
     "output_type": "display_data"
    },
    {
     "data": {
      "text/plain": [
       "\u001b[3;92mTrue\u001b[0m"
      ]
     },
     "execution_count": 1,
     "metadata": {},
     "output_type": "execute_result"
    }
   ],
   "source": [
    "import os\n",
    "from dotenv import load_dotenv\n",
    "from rich import print\n",
    "\n",
    "%load_ext rich\n",
    "load_dotenv()\n"
   ]
  },
  {
   "cell_type": "code",
   "execution_count": 23,
   "metadata": {},
   "outputs": [],
   "source": [
    "from langgraph.graph import StateGraph, START, END\n",
    "from langchain_openai import ChatOpenAI\n",
    "from langchain_community.document_loaders import WebBaseLoader\n",
    "from cleantext import clean\n",
    "from langchain_core.messages import SystemMessage, HumanMessage\n",
    "from langchain_core.documents import Document\n",
    "\n",
    "os.environ[\"USER_AGENT\"] = (\n",
    "    \"Mozilla/5.0 (Macintosh; Intel Mac OS X 10_15_7) AppleWebKit/537.36 (KHTML, like Gecko) Chrome/120.0.0.0 Safari/537.36\"\n",
    ")\n"
   ]
  },
  {
   "cell_type": "code",
   "execution_count": 11,
   "metadata": {},
   "outputs": [],
   "source": [
    "def get_recipe_from_url(url: str) -> dict:\n",
    "    website_data = []\n",
    "    loader = WebBaseLoader(url)\n",
    "    website_data.extend(loader.load())\n",
    "    return website_data[0]\n"
   ]
  },
  {
   "cell_type": "code",
   "execution_count": 17,
   "metadata": {},
   "outputs": [],
   "source": [
    "def sanitize_text(text: str) -> str:\n",
    "    return clean(\n",
    "        text,\n",
    "        fix_unicode=True,\n",
    "        to_ascii=True,\n",
    "        lower=True,\n",
    "        normalize_whitespace=True,\n",
    "        no_line_breaks=True,\n",
    "        strip_lines=True,\n",
    "    )\n"
   ]
  },
  {
   "cell_type": "code",
   "execution_count": 18,
   "metadata": {},
   "outputs": [],
   "source": [
    "TEST_URL = \"https://www.recipetineats.com/honey-garlic-chicken/\""
   ]
  },
  {
   "cell_type": "code",
   "execution_count": 19,
   "metadata": {},
   "outputs": [],
   "source": [
    "website_data = get_recipe_from_url(TEST_URL)\n"
   ]
  },
  {
   "cell_type": "code",
   "execution_count": 26,
   "metadata": {},
   "outputs": [],
   "source": [
    "from typing import TypedDict, List\n",
    "\n",
    "\n",
    "class Recipe(TypedDict):\n",
    "    \"\"\"Represents a simple recipe object.\"\"\"\n",
    "\n",
    "    title: str\n",
    "    ingredients: List[str]\n",
    "    instructions: List[str]"
   ]
  },
  {
   "cell_type": "code",
   "execution_count": 24,
   "metadata": {},
   "outputs": [],
   "source": [
    "def format_recipe(website_data: Document) -> Recipe:\n",
    "    model = ChatOpenAI(model=\"gpt-4o-mini\", temperature=0)\n",
    "    messages = [\n",
    "        SystemMessage(\"Please extract recipes from the following website: \"),\n",
    "        HumanMessage(content=sanitize_text(website_data.page_content)),\n",
    "    ]\n",
    "\n",
    "    response = model.with_structured_output(Recipe).invoke(messages)\n",
    "    return response"
   ]
  },
  {
   "cell_type": "code",
   "execution_count": 27,
   "metadata": {},
   "outputs": [
    {
     "data": {
      "text/html": [
       "<pre style=\"white-space:pre;overflow-x:auto;line-height:normal;font-family:Menlo,'DejaVu Sans Mono',consolas,'Courier New',monospace\"><span style=\"font-weight: bold\">{</span>\n",
       "    <span style=\"color: #008000; text-decoration-color: #008000\">'title'</span>: <span style=\"color: #008000; text-decoration-color: #008000\">'Honey Garlic Chicken Breast'</span>,\n",
       "    <span style=\"color: #008000; text-decoration-color: #008000\">'ingredients'</span>: <span style=\"font-weight: bold\">[</span>\n",
       "        <span style=\"color: #008000; text-decoration-color: #008000\">'500g / 1 lb chicken breast, boneless and skinless (2 pieces)'</span>,\n",
       "        <span style=\"color: #008000; text-decoration-color: #008000\">'Salt and pepper'</span>,\n",
       "        <span style=\"color: #008000; text-decoration-color: #008000\">'1/4 cup flour'</span>,\n",
       "        <span style=\"color: #008000; text-decoration-color: #008000\">'3 1/2 tbsp (50g) unsalted butter (or 2 1/2 tbsp olive oil)'</span>,\n",
       "        <span style=\"color: #008000; text-decoration-color: #008000\">'2 garlic cloves, minced'</span>,\n",
       "        <span style=\"color: #008000; text-decoration-color: #008000\">'1 1/2 tbsp apple cider vinegar (or white or other clear vinegar)'</span>,\n",
       "        <span style=\"color: #008000; text-decoration-color: #008000\">'1 tbsp soy sauce, light or all purpose'</span>,\n",
       "        <span style=\"color: #008000; text-decoration-color: #008000\">'1/3 cup honey (or maple syrup)'</span>\n",
       "    <span style=\"font-weight: bold\">]</span>,\n",
       "    <span style=\"color: #008000; text-decoration-color: #008000\">'instructions'</span>: <span style=\"font-weight: bold\">[</span>\n",
       "        <span style=\"color: #008000; text-decoration-color: #008000\">'Cut the breasts in half horizontally to create 4 steaks in total. Sprinkle each side with salt and </span>\n",
       "<span style=\"color: #008000; text-decoration-color: #008000\">pepper.'</span>,\n",
       "        <span style=\"color: #008000; text-decoration-color: #008000\">'Place flour in a shallow dish. Coat chicken in flour and shake off excess.'</span>,\n",
       "        <span style=\"color: #008000; text-decoration-color: #008000\">'Melt most of the butter in a large skillet over high heat, holding back about 1 tsp for later.'</span>,\n",
       "        <span style=\"color: #008000; text-decoration-color: #008000\">'Place chicken in skillet and cook for 2-3 minutes until golden. Turn and cook the other side for 1 </span>\n",
       "<span style=\"color: #008000; text-decoration-color: #008000\">minute.'</span>,\n",
       "        <span style=\"color: #008000; text-decoration-color: #008000\">'Turn heat down slightly to medium high. Make a bit of room in the pan and add garlic and top with </span>\n",
       "<span style=\"color: #008000; text-decoration-color: #008000\">remaining dab of butter. Stir garlic briefly once butter melts.'</span>,\n",
       "        <span style=\"color: #008000; text-decoration-color: #008000\">'Add vinegar, soy sauce, and honey. Stir/shake pan to combine. Bring sauce to simmer, then simmer for 1 </span>\n",
       "<span style=\"color: #008000; text-decoration-color: #008000\">minute or until slightly thickened.'</span>,\n",
       "        <span style=\"color: #008000; text-decoration-color: #008000\">'Turn chicken to coat in sauce. If the sauce gets too thick, add a touch of water and stir.'</span>,\n",
       "        <span style=\"color: #008000; text-decoration-color: #008000\">'Remove from stove immediately. Place chicken on plates and drizzle over remaining sauce.'</span>\n",
       "    <span style=\"font-weight: bold\">]</span>\n",
       "<span style=\"font-weight: bold\">}</span>\n",
       "</pre>\n"
      ],
      "text/plain": [
       "\u001b[1m{\u001b[0m\n",
       "    \u001b[32m'title'\u001b[0m: \u001b[32m'Honey Garlic Chicken Breast'\u001b[0m,\n",
       "    \u001b[32m'ingredients'\u001b[0m: \u001b[1m[\u001b[0m\n",
       "        \u001b[32m'500g / 1 lb chicken breast, boneless and skinless \u001b[0m\u001b[32m(\u001b[0m\u001b[32m2 pieces\u001b[0m\u001b[32m)\u001b[0m\u001b[32m'\u001b[0m,\n",
       "        \u001b[32m'Salt and pepper'\u001b[0m,\n",
       "        \u001b[32m'1/4 cup flour'\u001b[0m,\n",
       "        \u001b[32m'3 1/2 tbsp \u001b[0m\u001b[32m(\u001b[0m\u001b[32m50g\u001b[0m\u001b[32m)\u001b[0m\u001b[32m unsalted butter \u001b[0m\u001b[32m(\u001b[0m\u001b[32mor 2 1/2 tbsp olive oil\u001b[0m\u001b[32m)\u001b[0m\u001b[32m'\u001b[0m,\n",
       "        \u001b[32m'2 garlic cloves, minced'\u001b[0m,\n",
       "        \u001b[32m'1 1/2 tbsp apple cider vinegar \u001b[0m\u001b[32m(\u001b[0m\u001b[32mor white or other clear vinegar\u001b[0m\u001b[32m)\u001b[0m\u001b[32m'\u001b[0m,\n",
       "        \u001b[32m'1 tbsp soy sauce, light or all purpose'\u001b[0m,\n",
       "        \u001b[32m'1/3 cup honey \u001b[0m\u001b[32m(\u001b[0m\u001b[32mor maple syrup\u001b[0m\u001b[32m)\u001b[0m\u001b[32m'\u001b[0m\n",
       "    \u001b[1m]\u001b[0m,\n",
       "    \u001b[32m'instructions'\u001b[0m: \u001b[1m[\u001b[0m\n",
       "        \u001b[32m'Cut the breasts in half horizontally to create 4 steaks in total. Sprinkle each side with salt and \u001b[0m\n",
       "\u001b[32mpepper.'\u001b[0m,\n",
       "        \u001b[32m'Place flour in a shallow dish. Coat chicken in flour and shake off excess.'\u001b[0m,\n",
       "        \u001b[32m'Melt most of the butter in a large skillet over high heat, holding back about 1 tsp for later.'\u001b[0m,\n",
       "        \u001b[32m'Place chicken in skillet and cook for 2-3 minutes until golden. Turn and cook the other side for 1 \u001b[0m\n",
       "\u001b[32mminute.'\u001b[0m,\n",
       "        \u001b[32m'Turn heat down slightly to medium high. Make a bit of room in the pan and add garlic and top with \u001b[0m\n",
       "\u001b[32mremaining dab of butter. Stir garlic briefly once butter melts.'\u001b[0m,\n",
       "        \u001b[32m'Add vinegar, soy sauce, and honey. Stir/shake pan to combine. Bring sauce to simmer, then simmer for 1 \u001b[0m\n",
       "\u001b[32mminute or until slightly thickened.'\u001b[0m,\n",
       "        \u001b[32m'Turn chicken to coat in sauce. If the sauce gets too thick, add a touch of water and stir.'\u001b[0m,\n",
       "        \u001b[32m'Remove from stove immediately. Place chicken on plates and drizzle over remaining sauce.'\u001b[0m\n",
       "    \u001b[1m]\u001b[0m\n",
       "\u001b[1m}\u001b[0m\n"
      ]
     },
     "metadata": {},
     "output_type": "display_data"
    }
   ],
   "source": [
    "recipe = format_recipe(website_data)\n",
    "print(recipe)"
   ]
  },
  {
   "cell_type": "code",
   "execution_count": null,
   "metadata": {},
   "outputs": [],
   "source": []
  }
 ],
 "metadata": {
  "kernelspec": {
   "display_name": ".venv",
   "language": "python",
   "name": "python3"
  },
  "language_info": {
   "codemirror_mode": {
    "name": "ipython",
    "version": 3
   },
   "file_extension": ".py",
   "mimetype": "text/x-python",
   "name": "python",
   "nbconvert_exporter": "python",
   "pygments_lexer": "ipython3",
   "version": "3.12.7"
  }
 },
 "nbformat": 4,
 "nbformat_minor": 2
}
